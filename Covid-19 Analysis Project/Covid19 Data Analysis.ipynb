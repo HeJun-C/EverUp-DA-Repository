{
 "cells": [
  {
   "cell_type": "markdown",
   "id": "3d755cef",
   "metadata": {},
   "source": [
    "# COVID 19 Data Analysis"
   ]
  },
  {
   "cell_type": "markdown",
   "id": "898a5b6c",
   "metadata": {},
   "source": [
    "**Description:** This script will read the latest data from the New York Times' county-level COVID-19 database at https://github.com/nytimes/covid-19-data/blob/master/us-counties.csv, filter the data for a chosen county in a chosen state, calculate the daily count of new cases and new deaths, print the most recent 28 days' worth of data for the selected county, and save the county's data for all dates to a comma-separated value (.csv) file on your computer. The printed data can be copied and pasted directly into a spreadsheet for further analysis and visualization.\n",
    "\n",
    "**Note:** For information about the data, see https://github.com/nytimes/covid-19-data.\n",
    "\n",
    "**Note:** After you have run the script one time in a given Anaconda environment, you may reduce the script's execution time by adding a `#` in front of `pip install pandas`. For example, `#pip install pandas` instead of `pip install pandas`. The `#` will tell Python to skip the code without running it."
   ]
  },
  {
   "cell_type": "markdown",
   "id": "1b22fff5",
   "metadata": {},
   "source": [
    "# Task 1 : Environment Set up"
   ]
  },
  {
   "cell_type": "markdown",
   "id": "d5204e1d",
   "metadata": {},
   "source": [
    "Import all required libraries that are needed for data analysis"
   ]
  },
  {
   "cell_type": "code",
   "execution_count": 1,
   "id": "2be1523f",
   "metadata": {},
   "outputs": [],
   "source": [
    "# basic libraries\n",
    "import sys\n",
    "import pandas as pd\n",
    "import numpy as np\n",
    "import warnings\n",
    "warnings.filterwarnings(\"ignore\")\n",
    "\n",
    "import matplotlib as mpl\n",
    "import matplotlib.pyplot as plt\n",
    "import seaborn as sns; sns.set()\n",
    "%matplotlib inline\n",
    "plt.style.use('seaborn-notebook')"
   ]
  },
  {
   "cell_type": "markdown",
   "id": "35dfaf56",
   "metadata": {},
   "source": [
    "# Task 2 :  Data Collection"
   ]
  },
  {
   "cell_type": "markdown",
   "id": "dfcc01ae",
   "metadata": {},
   "source": [
    "Use nytimes github repository as a data source to collect the covid 19 data in real time and ingest it into colab notebook for data anlysis purpose"
   ]
  },
  {
   "cell_type": "code",
   "execution_count": 2,
   "id": "3a4be03a",
   "metadata": {},
   "outputs": [],
   "source": [
    "df = pd.read_csv('https://raw.githubusercontent.com/nytimes/covid-19-data/master/us-counties.csv')"
   ]
  },
  {
   "cell_type": "markdown",
   "id": "05bf14e5",
   "metadata": {},
   "source": [
    "# Task 3 : Data Wrangling and EDA (Exploratory Data Analysis)"
   ]
  },
  {
   "cell_type": "code",
   "execution_count": 3,
   "id": "da44bdc6",
   "metadata": {},
   "outputs": [
    {
     "data": {
      "text/html": [
       "<div>\n",
       "<style scoped>\n",
       "    .dataframe tbody tr th:only-of-type {\n",
       "        vertical-align: middle;\n",
       "    }\n",
       "\n",
       "    .dataframe tbody tr th {\n",
       "        vertical-align: top;\n",
       "    }\n",
       "\n",
       "    .dataframe thead th {\n",
       "        text-align: right;\n",
       "    }\n",
       "</style>\n",
       "<table border=\"1\" class=\"dataframe\">\n",
       "  <thead>\n",
       "    <tr style=\"text-align: right;\">\n",
       "      <th></th>\n",
       "      <th>date</th>\n",
       "      <th>county</th>\n",
       "      <th>state</th>\n",
       "      <th>fips</th>\n",
       "      <th>cases</th>\n",
       "      <th>deaths</th>\n",
       "    </tr>\n",
       "  </thead>\n",
       "  <tbody>\n",
       "    <tr>\n",
       "      <th>0</th>\n",
       "      <td>2020-01-21</td>\n",
       "      <td>Snohomish</td>\n",
       "      <td>Washington</td>\n",
       "      <td>53061.0</td>\n",
       "      <td>1</td>\n",
       "      <td>0.0</td>\n",
       "    </tr>\n",
       "    <tr>\n",
       "      <th>1</th>\n",
       "      <td>2020-01-22</td>\n",
       "      <td>Snohomish</td>\n",
       "      <td>Washington</td>\n",
       "      <td>53061.0</td>\n",
       "      <td>1</td>\n",
       "      <td>0.0</td>\n",
       "    </tr>\n",
       "    <tr>\n",
       "      <th>2</th>\n",
       "      <td>2020-01-23</td>\n",
       "      <td>Snohomish</td>\n",
       "      <td>Washington</td>\n",
       "      <td>53061.0</td>\n",
       "      <td>1</td>\n",
       "      <td>0.0</td>\n",
       "    </tr>\n",
       "    <tr>\n",
       "      <th>3</th>\n",
       "      <td>2020-01-24</td>\n",
       "      <td>Cook</td>\n",
       "      <td>Illinois</td>\n",
       "      <td>17031.0</td>\n",
       "      <td>1</td>\n",
       "      <td>0.0</td>\n",
       "    </tr>\n",
       "    <tr>\n",
       "      <th>4</th>\n",
       "      <td>2020-01-24</td>\n",
       "      <td>Snohomish</td>\n",
       "      <td>Washington</td>\n",
       "      <td>53061.0</td>\n",
       "      <td>1</td>\n",
       "      <td>0.0</td>\n",
       "    </tr>\n",
       "  </tbody>\n",
       "</table>\n",
       "</div>"
      ],
      "text/plain": [
       "         date     county       state     fips  cases  deaths\n",
       "0  2020-01-21  Snohomish  Washington  53061.0      1     0.0\n",
       "1  2020-01-22  Snohomish  Washington  53061.0      1     0.0\n",
       "2  2020-01-23  Snohomish  Washington  53061.0      1     0.0\n",
       "3  2020-01-24       Cook    Illinois  17031.0      1     0.0\n",
       "4  2020-01-24  Snohomish  Washington  53061.0      1     0.0"
      ]
     },
     "execution_count": 3,
     "metadata": {},
     "output_type": "execute_result"
    }
   ],
   "source": [
    "df.head()"
   ]
  },
  {
   "cell_type": "code",
   "execution_count": 4,
   "id": "cae2e128",
   "metadata": {},
   "outputs": [
    {
     "name": "stdout",
     "output_type": "stream",
     "text": [
      "<class 'pandas.core.frame.DataFrame'>\n",
      "RangeIndex: 2122136 entries, 0 to 2122135\n",
      "Data columns (total 6 columns):\n",
      " #   Column  Dtype  \n",
      "---  ------  -----  \n",
      " 0   date    object \n",
      " 1   county  object \n",
      " 2   state   object \n",
      " 3   fips    float64\n",
      " 4   cases   int64  \n",
      " 5   deaths  float64\n",
      "dtypes: float64(2), int64(1), object(3)\n",
      "memory usage: 97.1+ MB\n"
     ]
    }
   ],
   "source": [
    "df.info()"
   ]
  },
  {
   "cell_type": "code",
   "execution_count": 5,
   "id": "67ebec03",
   "metadata": {},
   "outputs": [],
   "source": [
    "# choose NYC to analyze\n",
    "df_nyc = df[df.county==\"New York City\"]"
   ]
  },
  {
   "cell_type": "code",
   "execution_count": 6,
   "id": "f2221939",
   "metadata": {},
   "outputs": [
    {
     "data": {
      "text/html": [
       "<div>\n",
       "<style scoped>\n",
       "    .dataframe tbody tr th:only-of-type {\n",
       "        vertical-align: middle;\n",
       "    }\n",
       "\n",
       "    .dataframe tbody tr th {\n",
       "        vertical-align: top;\n",
       "    }\n",
       "\n",
       "    .dataframe thead th {\n",
       "        text-align: right;\n",
       "    }\n",
       "</style>\n",
       "<table border=\"1\" class=\"dataframe\">\n",
       "  <thead>\n",
       "    <tr style=\"text-align: right;\">\n",
       "      <th></th>\n",
       "      <th>date</th>\n",
       "      <th>county</th>\n",
       "      <th>state</th>\n",
       "      <th>fips</th>\n",
       "      <th>cases</th>\n",
       "      <th>deaths</th>\n",
       "    </tr>\n",
       "  </thead>\n",
       "  <tbody>\n",
       "    <tr>\n",
       "      <th>416</th>\n",
       "      <td>2020-03-01</td>\n",
       "      <td>New York City</td>\n",
       "      <td>New York</td>\n",
       "      <td>NaN</td>\n",
       "      <td>1</td>\n",
       "      <td>0.0</td>\n",
       "    </tr>\n",
       "    <tr>\n",
       "      <th>448</th>\n",
       "      <td>2020-03-02</td>\n",
       "      <td>New York City</td>\n",
       "      <td>New York</td>\n",
       "      <td>NaN</td>\n",
       "      <td>1</td>\n",
       "      <td>0.0</td>\n",
       "    </tr>\n",
       "    <tr>\n",
       "      <th>482</th>\n",
       "      <td>2020-03-03</td>\n",
       "      <td>New York City</td>\n",
       "      <td>New York</td>\n",
       "      <td>NaN</td>\n",
       "      <td>2</td>\n",
       "      <td>0.0</td>\n",
       "    </tr>\n",
       "    <tr>\n",
       "      <th>518</th>\n",
       "      <td>2020-03-04</td>\n",
       "      <td>New York City</td>\n",
       "      <td>New York</td>\n",
       "      <td>NaN</td>\n",
       "      <td>2</td>\n",
       "      <td>0.0</td>\n",
       "    </tr>\n",
       "    <tr>\n",
       "      <th>565</th>\n",
       "      <td>2020-03-05</td>\n",
       "      <td>New York City</td>\n",
       "      <td>New York</td>\n",
       "      <td>NaN</td>\n",
       "      <td>4</td>\n",
       "      <td>0.0</td>\n",
       "    </tr>\n",
       "  </tbody>\n",
       "</table>\n",
       "</div>"
      ],
      "text/plain": [
       "           date         county     state  fips  cases  deaths\n",
       "416  2020-03-01  New York City  New York   NaN      1     0.0\n",
       "448  2020-03-02  New York City  New York   NaN      1     0.0\n",
       "482  2020-03-03  New York City  New York   NaN      2     0.0\n",
       "518  2020-03-04  New York City  New York   NaN      2     0.0\n",
       "565  2020-03-05  New York City  New York   NaN      4     0.0"
      ]
     },
     "execution_count": 6,
     "metadata": {},
     "output_type": "execute_result"
    }
   ],
   "source": [
    "df_nyc.head()"
   ]
  },
  {
   "cell_type": "code",
   "execution_count": 7,
   "id": "a8f27c54",
   "metadata": {},
   "outputs": [
    {
     "data": {
      "text/html": [
       "<div>\n",
       "<style scoped>\n",
       "    .dataframe tbody tr th:only-of-type {\n",
       "        vertical-align: middle;\n",
       "    }\n",
       "\n",
       "    .dataframe tbody tr th {\n",
       "        vertical-align: top;\n",
       "    }\n",
       "\n",
       "    .dataframe thead th {\n",
       "        text-align: right;\n",
       "    }\n",
       "</style>\n",
       "<table border=\"1\" class=\"dataframe\">\n",
       "  <thead>\n",
       "    <tr style=\"text-align: right;\">\n",
       "      <th></th>\n",
       "      <th>date</th>\n",
       "      <th>county</th>\n",
       "      <th>state</th>\n",
       "      <th>fips</th>\n",
       "      <th>cases</th>\n",
       "      <th>deaths</th>\n",
       "    </tr>\n",
       "  </thead>\n",
       "  <tbody>\n",
       "    <tr>\n",
       "      <th>2107753</th>\n",
       "      <td>2022-01-12</td>\n",
       "      <td>New York City</td>\n",
       "      <td>New York</td>\n",
       "      <td>NaN</td>\n",
       "      <td>2005338</td>\n",
       "      <td>36224.0</td>\n",
       "    </tr>\n",
       "    <tr>\n",
       "      <th>2111005</th>\n",
       "      <td>2022-01-13</td>\n",
       "      <td>New York City</td>\n",
       "      <td>New York</td>\n",
       "      <td>NaN</td>\n",
       "      <td>2038543</td>\n",
       "      <td>36374.0</td>\n",
       "    </tr>\n",
       "    <tr>\n",
       "      <th>2114257</th>\n",
       "      <td>2022-01-14</td>\n",
       "      <td>New York City</td>\n",
       "      <td>New York</td>\n",
       "      <td>NaN</td>\n",
       "      <td>2058308</td>\n",
       "      <td>36509.0</td>\n",
       "    </tr>\n",
       "    <tr>\n",
       "      <th>2117508</th>\n",
       "      <td>2022-01-15</td>\n",
       "      <td>New York City</td>\n",
       "      <td>New York</td>\n",
       "      <td>NaN</td>\n",
       "      <td>2081362</td>\n",
       "      <td>36509.0</td>\n",
       "    </tr>\n",
       "    <tr>\n",
       "      <th>2120760</th>\n",
       "      <td>2022-01-16</td>\n",
       "      <td>New York City</td>\n",
       "      <td>New York</td>\n",
       "      <td>NaN</td>\n",
       "      <td>2109910</td>\n",
       "      <td>36509.0</td>\n",
       "    </tr>\n",
       "  </tbody>\n",
       "</table>\n",
       "</div>"
      ],
      "text/plain": [
       "               date         county     state  fips    cases   deaths\n",
       "2107753  2022-01-12  New York City  New York   NaN  2005338  36224.0\n",
       "2111005  2022-01-13  New York City  New York   NaN  2038543  36374.0\n",
       "2114257  2022-01-14  New York City  New York   NaN  2058308  36509.0\n",
       "2117508  2022-01-15  New York City  New York   NaN  2081362  36509.0\n",
       "2120760  2022-01-16  New York City  New York   NaN  2109910  36509.0"
      ]
     },
     "execution_count": 7,
     "metadata": {},
     "output_type": "execute_result"
    }
   ],
   "source": [
    "df_nyc.tail()"
   ]
  },
  {
   "cell_type": "code",
   "execution_count": 8,
   "id": "ca2e3d87",
   "metadata": {},
   "outputs": [
    {
     "name": "stdout",
     "output_type": "stream",
     "text": [
      "<class 'pandas.core.frame.DataFrame'>\n",
      "Int64Index: 687 entries, 416 to 2120760\n",
      "Data columns (total 6 columns):\n",
      " #   Column  Non-Null Count  Dtype  \n",
      "---  ------  --------------  -----  \n",
      " 0   date    687 non-null    object \n",
      " 1   county  687 non-null    object \n",
      " 2   state   687 non-null    object \n",
      " 3   fips    0 non-null      float64\n",
      " 4   cases   687 non-null    int64  \n",
      " 5   deaths  687 non-null    float64\n",
      "dtypes: float64(2), int64(1), object(3)\n",
      "memory usage: 37.6+ KB\n"
     ]
    }
   ],
   "source": [
    "df_nyc.info()"
   ]
  },
  {
   "cell_type": "code",
   "execution_count": 9,
   "id": "4689d24c",
   "metadata": {},
   "outputs": [],
   "source": [
    "# drop useless & redundant columns\n",
    "df_nyc.drop([\"fips\",\"county\",\"state\"], axis=1, inplace=True)"
   ]
  },
  {
   "cell_type": "code",
   "execution_count": 10,
   "id": "bd966898",
   "metadata": {},
   "outputs": [
    {
     "data": {
      "text/html": [
       "<div>\n",
       "<style scoped>\n",
       "    .dataframe tbody tr th:only-of-type {\n",
       "        vertical-align: middle;\n",
       "    }\n",
       "\n",
       "    .dataframe tbody tr th {\n",
       "        vertical-align: top;\n",
       "    }\n",
       "\n",
       "    .dataframe thead th {\n",
       "        text-align: right;\n",
       "    }\n",
       "</style>\n",
       "<table border=\"1\" class=\"dataframe\">\n",
       "  <thead>\n",
       "    <tr style=\"text-align: right;\">\n",
       "      <th></th>\n",
       "      <th>date</th>\n",
       "      <th>cases</th>\n",
       "      <th>deaths</th>\n",
       "    </tr>\n",
       "  </thead>\n",
       "  <tbody>\n",
       "    <tr>\n",
       "      <th>416</th>\n",
       "      <td>2020-03-01</td>\n",
       "      <td>1</td>\n",
       "      <td>0.0</td>\n",
       "    </tr>\n",
       "    <tr>\n",
       "      <th>448</th>\n",
       "      <td>2020-03-02</td>\n",
       "      <td>1</td>\n",
       "      <td>0.0</td>\n",
       "    </tr>\n",
       "    <tr>\n",
       "      <th>482</th>\n",
       "      <td>2020-03-03</td>\n",
       "      <td>2</td>\n",
       "      <td>0.0</td>\n",
       "    </tr>\n",
       "    <tr>\n",
       "      <th>518</th>\n",
       "      <td>2020-03-04</td>\n",
       "      <td>2</td>\n",
       "      <td>0.0</td>\n",
       "    </tr>\n",
       "    <tr>\n",
       "      <th>565</th>\n",
       "      <td>2020-03-05</td>\n",
       "      <td>4</td>\n",
       "      <td>0.0</td>\n",
       "    </tr>\n",
       "  </tbody>\n",
       "</table>\n",
       "</div>"
      ],
      "text/plain": [
       "           date  cases  deaths\n",
       "416  2020-03-01      1     0.0\n",
       "448  2020-03-02      1     0.0\n",
       "482  2020-03-03      2     0.0\n",
       "518  2020-03-04      2     0.0\n",
       "565  2020-03-05      4     0.0"
      ]
     },
     "execution_count": 10,
     "metadata": {},
     "output_type": "execute_result"
    }
   ],
   "source": [
    "df_nyc.head()"
   ]
  },
  {
   "cell_type": "code",
   "execution_count": 11,
   "id": "fe0964f3",
   "metadata": {},
   "outputs": [
    {
     "data": {
      "text/plain": [
       "Text(0, 0.5, 'Total NYC Covid Deaths')"
      ]
     },
     "execution_count": 11,
     "metadata": {},
     "output_type": "execute_result"
    },
    {
     "data": {
      "image/png": "[encoded data removed]",
      "text/plain": [
       "<Figure size 576x396 with 1 Axes>"
      ]
     },
     "metadata": {
      "needs_background": "light"
     },
     "output_type": "display_data"
    }
   ],
   "source": [
    "# plot total deaths from Mar 2021 to Jan 2022\n",
    "plt.plot(df_nyc.date, df_nyc.deaths)\n",
    "plt.xticks([],[])\n",
    "plt.xlabel(\"Mar 2020 - Jan 2022\")\n",
    "plt.ylabel(\"Total NYC Covid Deaths\")"
   ]
  },
  {
   "cell_type": "code",
   "execution_count": 12,
   "id": "8838f8d8",
   "metadata": {},
   "outputs": [
    {
     "data": {
      "text/plain": [
       "Text(0, 0.5, 'Total NYC Covid Cases')"
      ]
     },
     "execution_count": 12,
     "metadata": {},
     "output_type": "execute_result"
    },
    {
     "data": {
      "image/png": "[encoded data removed]",
      "text/plain": [
       "<Figure size 576x396 with 1 Axes>"
      ]
     },
     "metadata": {
      "needs_background": "light"
     },
     "output_type": "display_data"
    }
   ],
   "source": [
    "# plot total cases from Mar 2021 to Jan 2022\n",
    "plt.plot(df_nyc.date, df_nyc.cases)\n",
    "plt.xticks([],[])\n",
    "plt.xlabel(\"Mar 2020 - Jan 2022\")\n",
    "plt.ylabel(\"Total NYC Covid Cases\")"
   ]
  },
  {
   "cell_type": "code",
   "execution_count": 13,
   "id": "53b8b177",
   "metadata": {},
   "outputs": [
    {
     "data": {
      "text/plain": [
       "3071.193595342067"
      ]
     },
     "execution_count": 13,
     "metadata": {},
     "output_type": "execute_result"
    }
   ],
   "source": [
    "# calculate daily cases\n",
    "nyc_daily_cases = 2109910/687\n",
    "nyc_daily_cases"
   ]
  },
  {
   "cell_type": "code",
   "execution_count": 14,
   "id": "367d534b",
   "metadata": {},
   "outputs": [
    {
     "data": {
      "text/plain": [
       "53.14264919941776"
      ]
     },
     "execution_count": 14,
     "metadata": {},
     "output_type": "execute_result"
    }
   ],
   "source": [
    "# calculate daily death\n",
    "nyc_daily_deaths = 36509/687\n",
    "nyc_daily_deaths"
   ]
  },
  {
   "cell_type": "markdown",
   "id": "851ea16e",
   "metadata": {},
   "source": [
    "# Task4: Understand NYC covid 19 data in last 28 days"
   ]
  },
  {
   "cell_type": "code",
   "execution_count": 15,
   "id": "a8362516",
   "metadata": {},
   "outputs": [
    {
     "data": {
      "text/html": [
       "<div>\n",
       "<style scoped>\n",
       "    .dataframe tbody tr th:only-of-type {\n",
       "        vertical-align: middle;\n",
       "    }\n",
       "\n",
       "    .dataframe tbody tr th {\n",
       "        vertical-align: top;\n",
       "    }\n",
       "\n",
       "    .dataframe thead th {\n",
       "        text-align: right;\n",
       "    }\n",
       "</style>\n",
       "<table border=\"1\" class=\"dataframe\">\n",
       "  <thead>\n",
       "    <tr style=\"text-align: right;\">\n",
       "      <th></th>\n",
       "      <th>date</th>\n",
       "      <th>cases</th>\n",
       "      <th>deaths</th>\n",
       "    </tr>\n",
       "  </thead>\n",
       "  <tbody>\n",
       "    <tr>\n",
       "      <th>2032988</th>\n",
       "      <td>2021-12-20</td>\n",
       "      <td>1249755</td>\n",
       "      <td>35067.0</td>\n",
       "    </tr>\n",
       "    <tr>\n",
       "      <th>2036238</th>\n",
       "      <td>2021-12-21</td>\n",
       "      <td>1267713</td>\n",
       "      <td>35100.0</td>\n",
       "    </tr>\n",
       "    <tr>\n",
       "      <th>2039488</th>\n",
       "      <td>2021-12-22</td>\n",
       "      <td>1284470</td>\n",
       "      <td>35126.0</td>\n",
       "    </tr>\n",
       "    <tr>\n",
       "      <th>2042737</th>\n",
       "      <td>2021-12-23</td>\n",
       "      <td>1302298</td>\n",
       "      <td>35151.0</td>\n",
       "    </tr>\n",
       "    <tr>\n",
       "      <th>2045987</th>\n",
       "      <td>2021-12-24</td>\n",
       "      <td>1317511</td>\n",
       "      <td>35151.0</td>\n",
       "    </tr>\n",
       "  </tbody>\n",
       "</table>\n",
       "</div>"
      ],
      "text/plain": [
       "               date    cases   deaths\n",
       "2032988  2021-12-20  1249755  35067.0\n",
       "2036238  2021-12-21  1267713  35100.0\n",
       "2039488  2021-12-22  1284470  35126.0\n",
       "2042737  2021-12-23  1302298  35151.0\n",
       "2045987  2021-12-24  1317511  35151.0"
      ]
     },
     "execution_count": 15,
     "metadata": {},
     "output_type": "execute_result"
    }
   ],
   "source": [
    "# slice data from the last 28 days\n",
    "df_nyc_28days = df_nyc.iloc[-28:,:]\n",
    "df_nyc_28days.head()"
   ]
  },
  {
   "cell_type": "code",
   "execution_count": 16,
   "id": "f171271f",
   "metadata": {},
   "outputs": [
    {
     "data": {
      "text/html": [
       "<div>\n",
       "<style scoped>\n",
       "    .dataframe tbody tr th:only-of-type {\n",
       "        vertical-align: middle;\n",
       "    }\n",
       "\n",
       "    .dataframe tbody tr th {\n",
       "        vertical-align: top;\n",
       "    }\n",
       "\n",
       "    .dataframe thead th {\n",
       "        text-align: right;\n",
       "    }\n",
       "</style>\n",
       "<table border=\"1\" class=\"dataframe\">\n",
       "  <thead>\n",
       "    <tr style=\"text-align: right;\">\n",
       "      <th></th>\n",
       "      <th>date</th>\n",
       "      <th>cases</th>\n",
       "      <th>deaths</th>\n",
       "    </tr>\n",
       "  </thead>\n",
       "  <tbody>\n",
       "    <tr>\n",
       "      <th>2107753</th>\n",
       "      <td>2022-01-12</td>\n",
       "      <td>2005338</td>\n",
       "      <td>36224.0</td>\n",
       "    </tr>\n",
       "    <tr>\n",
       "      <th>2111005</th>\n",
       "      <td>2022-01-13</td>\n",
       "      <td>2038543</td>\n",
       "      <td>36374.0</td>\n",
       "    </tr>\n",
       "    <tr>\n",
       "      <th>2114257</th>\n",
       "      <td>2022-01-14</td>\n",
       "      <td>2058308</td>\n",
       "      <td>36509.0</td>\n",
       "    </tr>\n",
       "    <tr>\n",
       "      <th>2117508</th>\n",
       "      <td>2022-01-15</td>\n",
       "      <td>2081362</td>\n",
       "      <td>36509.0</td>\n",
       "    </tr>\n",
       "    <tr>\n",
       "      <th>2120760</th>\n",
       "      <td>2022-01-16</td>\n",
       "      <td>2109910</td>\n",
       "      <td>36509.0</td>\n",
       "    </tr>\n",
       "  </tbody>\n",
       "</table>\n",
       "</div>"
      ],
      "text/plain": [
       "               date    cases   deaths\n",
       "2107753  2022-01-12  2005338  36224.0\n",
       "2111005  2022-01-13  2038543  36374.0\n",
       "2114257  2022-01-14  2058308  36509.0\n",
       "2117508  2022-01-15  2081362  36509.0\n",
       "2120760  2022-01-16  2109910  36509.0"
      ]
     },
     "execution_count": 16,
     "metadata": {},
     "output_type": "execute_result"
    }
   ],
   "source": [
    "df_nyc_28days.tail()"
   ]
  },
  {
   "cell_type": "code",
   "execution_count": 17,
   "id": "e22f0c86",
   "metadata": {},
   "outputs": [],
   "source": [
    "#df_nyc_28days.to_csv(\"df_nyc_28days.csv\")"
   ]
  },
  {
   "cell_type": "code",
   "execution_count": 18,
   "id": "4e4a765f",
   "metadata": {},
   "outputs": [
    {
     "data": {
      "text/plain": [
       "Text(0, 0.5, 'Total NYC Covid Cases')"
      ]
     },
     "execution_count": 18,
     "metadata": {},
     "output_type": "execute_result"
    },
    {
     "data": {
      "image/png": "[encoded data removed]",
      "text/plain": [
       "<Figure size 576x396 with 1 Axes>"
      ]
     },
     "metadata": {
      "needs_background": "light"
     },
     "output_type": "display_data"
    }
   ],
   "source": [
    "# plot total cases in nyc from the last 28 days\n",
    "plt.plot(df_nyc_28days.date, df_nyc_28days.cases)\n",
    "plt.xticks([],[])\n",
    "plt.xlabel(\"Dec 2021 - Jan 2022\")\n",
    "plt.ylabel(\"Total NYC Covid Cases\")"
   ]
  },
  {
   "cell_type": "code",
   "execution_count": 19,
   "id": "e46d26d3",
   "metadata": {},
   "outputs": [
    {
     "data": {
      "text/plain": [
       "Text(0, 0.5, 'Total NYC Covid Deaths')"
      ]
     },
     "execution_count": 19,
     "metadata": {},
     "output_type": "execute_result"
    },
    {
     "data": {
      "image/png": "[encoded data removed]",
      "text/plain": [
       "<Figure size 576x396 with 1 Axes>"
      ]
     },
     "metadata": {
      "needs_background": "light"
     },
     "output_type": "display_data"
    }
   ],
   "source": [
    "# plot total deaths in nyc from the last 28 days\n",
    "plt.plot(df_nyc_28days.date, df_nyc_28days.deaths)\n",
    "plt.xticks([],[])\n",
    "plt.xlabel(\"Dec 2021 - Jan 2022\")\n",
    "plt.ylabel(\"Total NYC Covid Deaths\")"
   ]
  },
  {
   "cell_type": "code",
   "execution_count": 20,
   "id": "538e6671",
   "metadata": {},
   "outputs": [],
   "source": [
    "# slice data from the last 29 days to calculate daily data increment\n",
    "df_nyc_29days = df_nyc.iloc[-29:-1,:]"
   ]
  },
  {
   "cell_type": "code",
   "execution_count": 21,
   "id": "4ecb845a",
   "metadata": {},
   "outputs": [],
   "source": [
    "# calculate daily data increment\n",
    "df_nyc_28days['daily death increment'] = np.array(df_nyc_28days.deaths.tolist()) - np.array(df_nyc_29days.deaths.tolist())\n",
    "df_nyc_28days['daily case increment'] = np.array(df_nyc_28days.cases.tolist()) - np.array(df_nyc_29days.cases.tolist())"
   ]
  },
  {
   "cell_type": "code",
   "execution_count": 22,
   "id": "6b5fff7f",
   "metadata": {},
   "outputs": [
    {
     "data": {
      "text/html": [
       "<div>\n",
       "<style scoped>\n",
       "    .dataframe tbody tr th:only-of-type {\n",
       "        vertical-align: middle;\n",
       "    }\n",
       "\n",
       "    .dataframe tbody tr th {\n",
       "        vertical-align: top;\n",
       "    }\n",
       "\n",
       "    .dataframe thead th {\n",
       "        text-align: right;\n",
       "    }\n",
       "</style>\n",
       "<table border=\"1\" class=\"dataframe\">\n",
       "  <thead>\n",
       "    <tr style=\"text-align: right;\">\n",
       "      <th></th>\n",
       "      <th>date</th>\n",
       "      <th>cases</th>\n",
       "      <th>deaths</th>\n",
       "      <th>daily death increment</th>\n",
       "      <th>daily case increment</th>\n",
       "    </tr>\n",
       "  </thead>\n",
       "  <tbody>\n",
       "    <tr>\n",
       "      <th>2032988</th>\n",
       "      <td>2021-12-20</td>\n",
       "      <td>1249755</td>\n",
       "      <td>35067.0</td>\n",
       "      <td>1.0</td>\n",
       "      <td>12293</td>\n",
       "    </tr>\n",
       "    <tr>\n",
       "      <th>2036238</th>\n",
       "      <td>2021-12-21</td>\n",
       "      <td>1267713</td>\n",
       "      <td>35100.0</td>\n",
       "      <td>33.0</td>\n",
       "      <td>17958</td>\n",
       "    </tr>\n",
       "    <tr>\n",
       "      <th>2039488</th>\n",
       "      <td>2021-12-22</td>\n",
       "      <td>1284470</td>\n",
       "      <td>35126.0</td>\n",
       "      <td>26.0</td>\n",
       "      <td>16757</td>\n",
       "    </tr>\n",
       "    <tr>\n",
       "      <th>2042737</th>\n",
       "      <td>2021-12-23</td>\n",
       "      <td>1302298</td>\n",
       "      <td>35151.0</td>\n",
       "      <td>25.0</td>\n",
       "      <td>17828</td>\n",
       "    </tr>\n",
       "    <tr>\n",
       "      <th>2045987</th>\n",
       "      <td>2021-12-24</td>\n",
       "      <td>1317511</td>\n",
       "      <td>35151.0</td>\n",
       "      <td>0.0</td>\n",
       "      <td>15213</td>\n",
       "    </tr>\n",
       "  </tbody>\n",
       "</table>\n",
       "</div>"
      ],
      "text/plain": [
       "               date    cases   deaths  daily death increment  \\\n",
       "2032988  2021-12-20  1249755  35067.0                    1.0   \n",
       "2036238  2021-12-21  1267713  35100.0                   33.0   \n",
       "2039488  2021-12-22  1284470  35126.0                   26.0   \n",
       "2042737  2021-12-23  1302298  35151.0                   25.0   \n",
       "2045987  2021-12-24  1317511  35151.0                    0.0   \n",
       "\n",
       "         daily case increment  \n",
       "2032988                 12293  \n",
       "2036238                 17958  \n",
       "2039488                 16757  \n",
       "2042737                 17828  \n",
       "2045987                 15213  "
      ]
     },
     "execution_count": 22,
     "metadata": {},
     "output_type": "execute_result"
    }
   ],
   "source": [
    "df_nyc_28days.head()"
   ]
  },
  {
   "cell_type": "code",
   "execution_count": 23,
   "id": "0b18d186",
   "metadata": {},
   "outputs": [
    {
     "data": {
      "text/plain": [
       "Text(0, 0.5, 'NYC Daily Covid Deaths')"
      ]
     },
     "execution_count": 23,
     "metadata": {},
     "output_type": "execute_result"
    },
    {
     "data": {
      "image/png": "[encoded data removed]",
      "text/plain": [
       "<Figure size 576x396 with 1 Axes>"
      ]
     },
     "metadata": {
      "needs_background": "light"
     },
     "output_type": "display_data"
    }
   ],
   "source": [
    "# plot daily death increment\n",
    "plt.plot(df_nyc_28days.date, df_nyc_28days[\"daily death increment\"])\n",
    "plt.xticks([],[])\n",
    "plt.xlabel(\"Dec 2021 - Jan 2022\")\n",
    "plt.ylabel(\"NYC Daily Covid Deaths\")"
   ]
  },
  {
   "cell_type": "code",
   "execution_count": 24,
   "id": "79646c95",
   "metadata": {},
   "outputs": [
    {
     "data": {
      "text/plain": [
       "Text(0, 0.5, 'NYC Daily Covid Cases')"
      ]
     },
     "execution_count": 24,
     "metadata": {},
     "output_type": "execute_result"
    },
    {
     "data": {
      "image/png": "[encoded data removed]",
      "text/plain": [
       "<Figure size 576x396 with 1 Axes>"
      ]
     },
     "metadata": {
      "needs_background": "light"
     },
     "output_type": "display_data"
    }
   ],
   "source": [
    "# plot daily case increment\n",
    "plt.plot(df_nyc_28days.date, df_nyc_28days[\"daily case increment\"])\n",
    "plt.xticks([],[])\n",
    "plt.xlabel(\"Dec 2021 - Jan 2022\")\n",
    "plt.ylabel(\"NYC Daily Covid Cases\")"
   ]
  },
  {
   "cell_type": "markdown",
   "id": "0ad3a3ce",
   "metadata": {},
   "source": [
    "# Comparing Covid 19 data with different states"
   ]
  },
  {
   "cell_type": "code",
   "execution_count": 25,
   "id": "010443c6",
   "metadata": {},
   "outputs": [],
   "source": [
    "# compare total death\n",
    "df_death_byState = df.groupby(\"state\").agg({'deaths':\"max\"})"
   ]
  },
  {
   "cell_type": "code",
   "execution_count": 26,
   "id": "54b021d7",
   "metadata": {},
   "outputs": [
    {
     "data": {
      "text/html": [
       "<div>\n",
       "<style scoped>\n",
       "    .dataframe tbody tr th:only-of-type {\n",
       "        vertical-align: middle;\n",
       "    }\n",
       "\n",
       "    .dataframe tbody tr th {\n",
       "        vertical-align: top;\n",
       "    }\n",
       "\n",
       "    .dataframe thead th {\n",
       "        text-align: right;\n",
       "    }\n",
       "</style>\n",
       "<table border=\"1\" class=\"dataframe\">\n",
       "  <thead>\n",
       "    <tr style=\"text-align: right;\">\n",
       "      <th></th>\n",
       "      <th>deaths</th>\n",
       "    </tr>\n",
       "    <tr>\n",
       "      <th>state</th>\n",
       "      <th></th>\n",
       "    </tr>\n",
       "  </thead>\n",
       "  <tbody>\n",
       "    <tr>\n",
       "      <th>New York</th>\n",
       "      <td>36509.0</td>\n",
       "    </tr>\n",
       "    <tr>\n",
       "      <th>California</th>\n",
       "      <td>28059.0</td>\n",
       "    </tr>\n",
       "    <tr>\n",
       "      <th>Arizona</th>\n",
       "      <td>14179.0</td>\n",
       "    </tr>\n",
       "    <tr>\n",
       "      <th>Illinois</th>\n",
       "      <td>13058.0</td>\n",
       "    </tr>\n",
       "    <tr>\n",
       "      <th>Florida</th>\n",
       "      <td>11799.0</td>\n",
       "    </tr>\n",
       "  </tbody>\n",
       "</table>\n",
       "</div>"
      ],
      "text/plain": [
       "             deaths\n",
       "state              \n",
       "New York    36509.0\n",
       "California  28059.0\n",
       "Arizona     14179.0\n",
       "Illinois    13058.0\n",
       "Florida     11799.0"
      ]
     },
     "execution_count": 26,
     "metadata": {},
     "output_type": "execute_result"
    }
   ],
   "source": [
    "# state with higher total deaths\n",
    "df_death_byState.sort_values(\"deaths\",inplace=False,ascending=False).head()"
   ]
  },
  {
   "cell_type": "code",
   "execution_count": 27,
   "id": "0333a934",
   "metadata": {},
   "outputs": [
    {
     "data": {
      "text/html": [
       "<div>\n",
       "<style scoped>\n",
       "    .dataframe tbody tr th:only-of-type {\n",
       "        vertical-align: middle;\n",
       "    }\n",
       "\n",
       "    .dataframe tbody tr th {\n",
       "        vertical-align: top;\n",
       "    }\n",
       "\n",
       "    .dataframe thead th {\n",
       "        text-align: right;\n",
       "    }\n",
       "</style>\n",
       "<table border=\"1\" class=\"dataframe\">\n",
       "  <thead>\n",
       "    <tr style=\"text-align: right;\">\n",
       "      <th></th>\n",
       "      <th>deaths</th>\n",
       "    </tr>\n",
       "    <tr>\n",
       "      <th>state</th>\n",
       "      <th></th>\n",
       "    </tr>\n",
       "  </thead>\n",
       "  <tbody>\n",
       "    <tr>\n",
       "      <th>Wyoming</th>\n",
       "      <td>246.0</td>\n",
       "    </tr>\n",
       "    <tr>\n",
       "      <th>Vermont</th>\n",
       "      <td>140.0</td>\n",
       "    </tr>\n",
       "    <tr>\n",
       "      <th>Virgin Islands</th>\n",
       "      <td>48.0</td>\n",
       "    </tr>\n",
       "    <tr>\n",
       "      <th>Northern Mariana Islands</th>\n",
       "      <td>18.0</td>\n",
       "    </tr>\n",
       "    <tr>\n",
       "      <th>American Samoa</th>\n",
       "      <td>0.0</td>\n",
       "    </tr>\n",
       "  </tbody>\n",
       "</table>\n",
       "</div>"
      ],
      "text/plain": [
       "                          deaths\n",
       "state                           \n",
       "Wyoming                    246.0\n",
       "Vermont                    140.0\n",
       "Virgin Islands              48.0\n",
       "Northern Mariana Islands    18.0\n",
       "American Samoa               0.0"
      ]
     },
     "execution_count": 27,
     "metadata": {},
     "output_type": "execute_result"
    }
   ],
   "source": [
    "# state with lower total deaths\n",
    "df_death_byState.sort_values(\"deaths\",inplace=False,ascending=False).tail()"
   ]
  },
  {
   "cell_type": "code",
   "execution_count": 28,
   "id": "e4dae62f",
   "metadata": {},
   "outputs": [],
   "source": [
    "# compare total cases\n",
    "df_case_byState = df.groupby(\"state\").agg({'cases':\"max\"})"
   ]
  },
  {
   "cell_type": "code",
   "execution_count": 29,
   "id": "5ae258c2",
   "metadata": {},
   "outputs": [
    {
     "data": {
      "text/html": [
       "<div>\n",
       "<style scoped>\n",
       "    .dataframe tbody tr th:only-of-type {\n",
       "        vertical-align: middle;\n",
       "    }\n",
       "\n",
       "    .dataframe tbody tr th {\n",
       "        vertical-align: top;\n",
       "    }\n",
       "\n",
       "    .dataframe thead th {\n",
       "        text-align: right;\n",
       "    }\n",
       "</style>\n",
       "<table border=\"1\" class=\"dataframe\">\n",
       "  <thead>\n",
       "    <tr style=\"text-align: right;\">\n",
       "      <th></th>\n",
       "      <th>cases</th>\n",
       "    </tr>\n",
       "    <tr>\n",
       "      <th>state</th>\n",
       "      <th></th>\n",
       "    </tr>\n",
       "  </thead>\n",
       "  <tbody>\n",
       "    <tr>\n",
       "      <th>California</th>\n",
       "      <td>2258206</td>\n",
       "    </tr>\n",
       "    <tr>\n",
       "      <th>New York</th>\n",
       "      <td>2109910</td>\n",
       "    </tr>\n",
       "    <tr>\n",
       "      <th>Florida</th>\n",
       "      <td>1051508</td>\n",
       "    </tr>\n",
       "    <tr>\n",
       "      <th>Arizona</th>\n",
       "      <td>1025184</td>\n",
       "    </tr>\n",
       "    <tr>\n",
       "      <th>Illinois</th>\n",
       "      <td>986858</td>\n",
       "    </tr>\n",
       "  </tbody>\n",
       "</table>\n",
       "</div>"
      ],
      "text/plain": [
       "              cases\n",
       "state              \n",
       "California  2258206\n",
       "New York    2109910\n",
       "Florida     1051508\n",
       "Arizona     1025184\n",
       "Illinois     986858"
      ]
     },
     "execution_count": 29,
     "metadata": {},
     "output_type": "execute_result"
    }
   ],
   "source": [
    "# state with higher total cases\n",
    "df_case_byState.sort_values(\"cases\",inplace=False,ascending=False).head()"
   ]
  },
  {
   "cell_type": "code",
   "execution_count": 30,
   "id": "d50ca33d",
   "metadata": {},
   "outputs": [
    {
     "data": {
      "text/html": [
       "<div>\n",
       "<style scoped>\n",
       "    .dataframe tbody tr th:only-of-type {\n",
       "        vertical-align: middle;\n",
       "    }\n",
       "\n",
       "    .dataframe tbody tr th {\n",
       "        vertical-align: top;\n",
       "    }\n",
       "\n",
       "    .dataframe thead th {\n",
       "        text-align: right;\n",
       "    }\n",
       "</style>\n",
       "<table border=\"1\" class=\"dataframe\">\n",
       "  <thead>\n",
       "    <tr style=\"text-align: right;\">\n",
       "      <th></th>\n",
       "      <th>cases</th>\n",
       "    </tr>\n",
       "    <tr>\n",
       "      <th>state</th>\n",
       "      <th></th>\n",
       "    </tr>\n",
       "  </thead>\n",
       "  <tbody>\n",
       "    <tr>\n",
       "      <th>Vermont</th>\n",
       "      <td>20969</td>\n",
       "    </tr>\n",
       "    <tr>\n",
       "      <th>Wyoming</th>\n",
       "      <td>20717</td>\n",
       "    </tr>\n",
       "    <tr>\n",
       "      <th>Virgin Islands</th>\n",
       "      <td>6442</td>\n",
       "    </tr>\n",
       "    <tr>\n",
       "      <th>Northern Mariana Islands</th>\n",
       "      <td>3507</td>\n",
       "    </tr>\n",
       "    <tr>\n",
       "      <th>American Samoa</th>\n",
       "      <td>1</td>\n",
       "    </tr>\n",
       "  </tbody>\n",
       "</table>\n",
       "</div>"
      ],
      "text/plain": [
       "                          cases\n",
       "state                          \n",
       "Vermont                   20969\n",
       "Wyoming                   20717\n",
       "Virgin Islands             6442\n",
       "Northern Mariana Islands   3507\n",
       "American Samoa                1"
      ]
     },
     "execution_count": 30,
     "metadata": {},
     "output_type": "execute_result"
    }
   ],
   "source": [
    "# state with lower total cases\n",
    "df_case_byState.sort_values(\"cases\",inplace=False,ascending=False).tail()"
   ]
  },
  {
   "cell_type": "code",
   "execution_count": 31,
   "id": "bc3156bf",
   "metadata": {},
   "outputs": [],
   "source": [
    "# compare death to case ratio by state\n",
    "d2c_ratio = np.round((100*np.array(df.groupby(\"state\").agg({'deaths':\"max\"}).deaths.tolist())/np.array(df.groupby(\"state\").agg({'cases':\"max\"}).cases.tolist())),2)"
   ]
  },
  {
   "cell_type": "code",
   "execution_count": 32,
   "id": "77db0ee9",
   "metadata": {},
   "outputs": [
    {
     "data": {
      "text/html": [
       "<div>\n",
       "<style scoped>\n",
       "    .dataframe tbody tr th:only-of-type {\n",
       "        vertical-align: middle;\n",
       "    }\n",
       "\n",
       "    .dataframe tbody tr th {\n",
       "        vertical-align: top;\n",
       "    }\n",
       "\n",
       "    .dataframe thead th {\n",
       "        text-align: right;\n",
       "    }\n",
       "</style>\n",
       "<table border=\"1\" class=\"dataframe\">\n",
       "  <thead>\n",
       "    <tr style=\"text-align: right;\">\n",
       "      <th></th>\n",
       "      <th>state</th>\n",
       "      <th>death to case ratio(%)</th>\n",
       "    </tr>\n",
       "  </thead>\n",
       "  <tbody>\n",
       "    <tr>\n",
       "      <th>42</th>\n",
       "      <td>Puerto Rico</td>\n",
       "      <td>6.46</td>\n",
       "    </tr>\n",
       "    <tr>\n",
       "      <th>24</th>\n",
       "      <td>Michigan</td>\n",
       "      <td>2.02</td>\n",
       "    </tr>\n",
       "    <tr>\n",
       "      <th>34</th>\n",
       "      <td>New York</td>\n",
       "      <td>1.73</td>\n",
       "    </tr>\n",
       "    <tr>\n",
       "      <th>53</th>\n",
       "      <td>West Virginia</td>\n",
       "      <td>1.66</td>\n",
       "    </tr>\n",
       "    <tr>\n",
       "      <th>32</th>\n",
       "      <td>New Jersey</td>\n",
       "      <td>1.65</td>\n",
       "    </tr>\n",
       "  </tbody>\n",
       "</table>\n",
       "</div>"
      ],
      "text/plain": [
       "            state  death to case ratio(%)\n",
       "42    Puerto Rico                    6.46\n",
       "24       Michigan                    2.02\n",
       "34       New York                    1.73\n",
       "53  West Virginia                    1.66\n",
       "32     New Jersey                    1.65"
      ]
     },
     "execution_count": 32,
     "metadata": {},
     "output_type": "execute_result"
    }
   ],
   "source": [
    "# state with higher death to case ratio\n",
    "df_d2c = pd.DataFrame({\"state\":df_case_byState.index, \"death to case ratio(%)\":d2c_ratio})\n",
    "df_d2c.sort_values(\"death to case ratio(%)\",inplace=False,ascending=False).head()"
   ]
  },
  {
   "cell_type": "code",
   "execution_count": 33,
   "id": "69e747e4",
   "metadata": {},
   "outputs": [
    {
     "data": {
      "text/html": [
       "<div>\n",
       "<style scoped>\n",
       "    .dataframe tbody tr th:only-of-type {\n",
       "        vertical-align: middle;\n",
       "    }\n",
       "\n",
       "    .dataframe tbody tr th {\n",
       "        vertical-align: top;\n",
       "    }\n",
       "\n",
       "    .dataframe thead th {\n",
       "        text-align: right;\n",
       "    }\n",
       "</style>\n",
       "<table border=\"1\" class=\"dataframe\">\n",
       "  <thead>\n",
       "    <tr style=\"text-align: right;\">\n",
       "      <th></th>\n",
       "      <th>state</th>\n",
       "      <th>death to case ratio(%)</th>\n",
       "    </tr>\n",
       "  </thead>\n",
       "  <tbody>\n",
       "    <tr>\n",
       "      <th>36</th>\n",
       "      <td>North Dakota</td>\n",
       "      <td>0.62</td>\n",
       "    </tr>\n",
       "    <tr>\n",
       "      <th>1</th>\n",
       "      <td>Alaska</td>\n",
       "      <td>0.57</td>\n",
       "    </tr>\n",
       "    <tr>\n",
       "      <th>37</th>\n",
       "      <td>Northern Mariana Islands</td>\n",
       "      <td>0.51</td>\n",
       "    </tr>\n",
       "    <tr>\n",
       "      <th>48</th>\n",
       "      <td>Utah</td>\n",
       "      <td>0.50</td>\n",
       "    </tr>\n",
       "    <tr>\n",
       "      <th>2</th>\n",
       "      <td>American Samoa</td>\n",
       "      <td>0.00</td>\n",
       "    </tr>\n",
       "  </tbody>\n",
       "</table>\n",
       "</div>"
      ],
      "text/plain": [
       "                       state  death to case ratio(%)\n",
       "36              North Dakota                    0.62\n",
       "1                     Alaska                    0.57\n",
       "37  Northern Mariana Islands                    0.51\n",
       "48                      Utah                    0.50\n",
       "2             American Samoa                    0.00"
      ]
     },
     "execution_count": 33,
     "metadata": {},
     "output_type": "execute_result"
    }
   ],
   "source": [
    "# state with lower death to case ratio\n",
    "df_d2c.sort_values(\"death to case ratio(%)\",inplace=False,ascending=False).tail()"
   ]
  },
  {
   "cell_type": "code",
   "execution_count": 34,
   "id": "f661aede",
   "metadata": {},
   "outputs": [
    {
     "data": {
      "text/plain": [
       "1.21"
      ]
     },
     "execution_count": 34,
     "metadata": {},
     "output_type": "execute_result"
    }
   ],
   "source": [
    "# calculate national average death to case ratio\n",
    "np.round(np.mean(df_d2c[\"death to case ratio(%)\"]),2)"
   ]
  },
  {
   "cell_type": "markdown",
   "id": "6e8e9d42",
   "metadata": {},
   "source": [
    "# Conclusion"
   ]
  },
  {
   "cell_type": "markdown",
   "id": "fe68887b",
   "metadata": {},
   "source": [
    "Below are the conclusions:\n",
    "\n",
    "\n",
    "\n",
    "1.   Conclusion 1\n",
    "     --California has the highest cases while New York has the highest deaths\n",
    "2.   Conclusion 2\n",
    "     --Puerto Rico has the highest death to case ratio (6.46%), which is much higher than national average (1.21%)\n",
    "3.   Conclusion 3\n",
    "     --In the last 28 days, NYC's daily incremental cases and deaths are growing faster than before\n",
    "4.   Conclusion 4\n",
    "     --American Samoa State has only 1 case and 0 death"
   ]
  }
 ],
 "metadata": {
  "kernelspec": {
   "display_name": "Python 3 (ipykernel)",
   "language": "python",
   "name": "python3"
  },
  "language_info": {
   "codemirror_mode": {
    "name": "ipython",
    "version": 3
   },
   "file_extension": ".py",
   "mimetype": "text/x-python",
   "name": "python",
   "nbconvert_exporter": "python",
   "pygments_lexer": "ipython3",
   "version": "3.9.7"
  }
 },
 "nbformat": 4,
 "nbformat_minor": 5
}
