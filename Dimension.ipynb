{
 "cells": [
  {
   "cell_type": "code",
   "execution_count": 1,
   "id": "7c030288",
   "metadata": {},
   "outputs": [],
   "source": [
    "import numpy as np"
   ]
  },
  {
   "cell_type": "code",
   "execution_count": 2,
   "id": "8c93e5a6",
   "metadata": {},
   "outputs": [
    {
     "data": {
      "text/plain": [
       "array([1, 2, 3, 4])"
      ]
     },
     "execution_count": 2,
     "metadata": {},
     "output_type": "execute_result"
    }
   ],
   "source": [
    "one_dim = np.array([1,2,3,4])\n",
    "one_dim"
   ]
  },
  {
   "cell_type": "code",
   "execution_count": 3,
   "id": "cac1c665",
   "metadata": {},
   "outputs": [
    {
     "data": {
      "text/plain": [
       "1"
      ]
     },
     "execution_count": 3,
     "metadata": {},
     "output_type": "execute_result"
    }
   ],
   "source": [
    "one_dim.ndim"
   ]
  },
  {
   "cell_type": "code",
   "execution_count": 4,
   "id": "0ff4ab09",
   "metadata": {},
   "outputs": [
    {
     "data": {
      "text/plain": [
       "array([[1, 2, 3, 4],\n",
       "       [1, 2, 3, 4],\n",
       "       [1, 2, 3, 4]])"
      ]
     },
     "execution_count": 4,
     "metadata": {},
     "output_type": "execute_result"
    }
   ],
   "source": [
    "two_dim = np.array([[1,2,3,4],[1,2,3,4],[1,2,3,4]])\n",
    "two_dim"
   ]
  },
  {
   "cell_type": "code",
   "execution_count": 5,
   "id": "2b4db9d7",
   "metadata": {},
   "outputs": [
    {
     "data": {
      "text/plain": [
       "2"
      ]
     },
     "execution_count": 5,
     "metadata": {},
     "output_type": "execute_result"
    }
   ],
   "source": [
    "two_dim.ndim"
   ]
  },
  {
   "cell_type": "code",
   "execution_count": 6,
   "id": "87b3ad70",
   "metadata": {},
   "outputs": [
    {
     "data": {
      "text/plain": [
       "array([[[1],\n",
       "        [2],\n",
       "        [3],\n",
       "        [4]],\n",
       "\n",
       "       [[1],\n",
       "        [2],\n",
       "        [3],\n",
       "        [4]],\n",
       "\n",
       "       [[1],\n",
       "        [2],\n",
       "        [3],\n",
       "        [4]]])"
      ]
     },
     "execution_count": 6,
     "metadata": {},
     "output_type": "execute_result"
    }
   ],
   "source": [
    "three_dim = np.array([[[1],[2],[3],[4]],[[1],[2],[3],[4]],[[1],[2],[3],[4]]])\n",
    "three_dim"
   ]
  },
  {
   "cell_type": "code",
   "execution_count": 7,
   "id": "4524b598",
   "metadata": {},
   "outputs": [
    {
     "data": {
      "text/plain": [
       "3"
      ]
     },
     "execution_count": 7,
     "metadata": {},
     "output_type": "execute_result"
    }
   ],
   "source": [
    "three_dim.ndim"
   ]
  },
  {
   "cell_type": "markdown",
   "id": "4b7491f6",
   "metadata": {},
   "source": [
    "# The confusion in the class"
   ]
  },
  {
   "cell_type": "code",
   "execution_count": 8,
   "id": "5c472886",
   "metadata": {},
   "outputs": [],
   "source": [
    "trial_1 = [1,2,3,4]\n",
    "trial_2 = [5,6,7,8]"
   ]
  },
  {
   "cell_type": "code",
   "execution_count": 9,
   "id": "63d4cab3",
   "metadata": {},
   "outputs": [],
   "source": [
    "np_trial_1 = np.array(trial_1)\n",
    "np_trial_2 = np.array(trial_2)"
   ]
  },
  {
   "cell_type": "code",
   "execution_count": 10,
   "id": "4420b5ca",
   "metadata": {},
   "outputs": [
    {
     "name": "stdout",
     "output_type": "stream",
     "text": [
      "[1 2 3 4]\n",
      "1\n"
     ]
    }
   ],
   "source": [
    "print(np_trial_1)\n",
    "print(np_trial_1.ndim)"
   ]
  },
  {
   "cell_type": "code",
   "execution_count": 11,
   "id": "71a8cce1",
   "metadata": {},
   "outputs": [
    {
     "name": "stdout",
     "output_type": "stream",
     "text": [
      "[5 6 7 8]\n",
      "1\n"
     ]
    }
   ],
   "source": [
    "print(np_trial_2)\n",
    "print(np_trial_2.ndim)"
   ]
  },
  {
   "cell_type": "code",
   "execution_count": 12,
   "id": "344db24c",
   "metadata": {},
   "outputs": [
    {
     "data": {
      "text/plain": [
       "array([[1, 2, 3, 4],\n",
       "       [5, 6, 7, 8]])"
      ]
     },
     "execution_count": 12,
     "metadata": {},
     "output_type": "execute_result"
    }
   ],
   "source": [
    "# correct\n",
    "all_correct = np.array([np_trial_1,np_trial_2])\n",
    "all_correct"
   ]
  },
  {
   "cell_type": "code",
   "execution_count": 13,
   "id": "d7e6e697",
   "metadata": {},
   "outputs": [
    {
     "data": {
      "text/plain": [
       "2"
      ]
     },
     "execution_count": 13,
     "metadata": {},
     "output_type": "execute_result"
    }
   ],
   "source": [
    "all_correct.ndim"
   ]
  },
  {
   "cell_type": "code",
   "execution_count": 14,
   "id": "f4d5c53c",
   "metadata": {},
   "outputs": [
    {
     "data": {
      "text/plain": [
       "5"
      ]
     },
     "execution_count": 14,
     "metadata": {},
     "output_type": "execute_result"
    }
   ],
   "source": [
    "all_correct[1,0]"
   ]
  },
  {
   "cell_type": "code",
   "execution_count": 15,
   "id": "0c61a16b",
   "metadata": {},
   "outputs": [
    {
     "data": {
      "text/plain": [
       "array([[[1, 2, 3, 4]],\n",
       "\n",
       "       [[5, 6, 7, 8]]])"
      ]
     },
     "execution_count": 15,
     "metadata": {},
     "output_type": "execute_result"
    }
   ],
   "source": [
    "# wrong - ignoring that variables np_trial_1 & np_trial_2 have a square bracket with themselves\n",
    "all_wrong = np.array([[np_trial_1],[np_trial_2]])\n",
    "all_wrong"
   ]
  },
  {
   "cell_type": "code",
   "execution_count": 16,
   "id": "f26eb065",
   "metadata": {},
   "outputs": [
    {
     "data": {
      "text/plain": [
       "3"
      ]
     },
     "execution_count": 16,
     "metadata": {},
     "output_type": "execute_result"
    }
   ],
   "source": [
    "all_wrong.ndim"
   ]
  },
  {
   "cell_type": "code",
   "execution_count": 17,
   "id": "43fd0e8b",
   "metadata": {},
   "outputs": [
    {
     "data": {
      "text/plain": [
       "array([[5, 6, 7, 8]])"
      ]
     },
     "execution_count": 17,
     "metadata": {},
     "output_type": "execute_result"
    }
   ],
   "source": [
    "all_wrong[1] # notice the extra square bracket here"
   ]
  },
  {
   "cell_type": "code",
   "execution_count": 18,
   "id": "6ed20cad",
   "metadata": {},
   "outputs": [
    {
     "data": {
      "text/plain": [
       "array([5, 6, 7, 8])"
      ]
     },
     "execution_count": 18,
     "metadata": {},
     "output_type": "execute_result"
    }
   ],
   "source": [
    "all_wrong[1,0]"
   ]
  },
  {
   "cell_type": "code",
   "execution_count": 19,
   "id": "d02daef2",
   "metadata": {},
   "outputs": [
    {
     "data": {
      "text/plain": [
       "5"
      ]
     },
     "execution_count": 19,
     "metadata": {},
     "output_type": "execute_result"
    }
   ],
   "source": [
    "all_wrong[1,0,0]"
   ]
  },
  {
   "cell_type": "markdown",
   "id": "09e547c9",
   "metadata": {},
   "source": [
    "# In the case of a list"
   ]
  },
  {
   "cell_type": "code",
   "execution_count": 20,
   "id": "a777a734",
   "metadata": {},
   "outputs": [
    {
     "data": {
      "text/plain": [
       "[[1, 2, 3], [4, 5, 6]]"
      ]
     },
     "execution_count": 20,
     "metadata": {},
     "output_type": "execute_result"
    }
   ],
   "source": [
    "x = [[[1,2,3],[4,5,6]]] # 3 dimensions\n",
    "x[0]"
   ]
  },
  {
   "cell_type": "code",
   "execution_count": 21,
   "id": "7f32a583",
   "metadata": {},
   "outputs": [
    {
     "data": {
      "text/plain": [
       "[1, 2, 3]"
      ]
     },
     "execution_count": 21,
     "metadata": {},
     "output_type": "execute_result"
    }
   ],
   "source": [
    "x[0][0]"
   ]
  },
  {
   "cell_type": "code",
   "execution_count": 22,
   "id": "353d1454",
   "metadata": {},
   "outputs": [
    {
     "data": {
      "text/plain": [
       "1"
      ]
     },
     "execution_count": 22,
     "metadata": {},
     "output_type": "execute_result"
    }
   ],
   "source": [
    "x[0][0][0]"
   ]
  }
 ],
 "metadata": {
  "kernelspec": {
   "display_name": "Python 3 (ipykernel)",
   "language": "python",
   "name": "python3"
  },
  "language_info": {
   "codemirror_mode": {
    "name": "ipython",
    "version": 3
   },
   "file_extension": ".py",
   "mimetype": "text/x-python",
   "name": "python",
   "nbconvert_exporter": "python",
   "pygments_lexer": "ipython3",
   "version": "3.9.7"
  }
 },
 "nbformat": 4,
 "nbformat_minor": 5
}
