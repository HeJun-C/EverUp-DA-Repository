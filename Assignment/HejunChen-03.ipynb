{
 "cells": [
  {
   "cell_type": "code",
   "execution_count": 1,
   "id": "92b41538",
   "metadata": {},
   "outputs": [
    {
     "name": "stdout",
     "output_type": "stream",
     "text": [
      "Alice and Bruce cross (2mins)                Total=2mins\n",
      "Alice returns (1mins)                        Total=3mins\n",
      "Carla and David cross (10mins)               Total=13mins\n",
      "Bruce returns (2mins)                        Total=15mins\n",
      "Alice and Bruce cross (2mins)                Total=17mins\n"
     ]
    }
   ],
   "source": [
    "# test without Eve\n",
    "team = (('David',10),('Bruce',2),('Carla',9),('Alice',1))\n",
    "\n",
    "on_left = sorted(list(team), key=lambda x:x[1]) \n",
    "guard = on_left[1]\n",
    "crossing_time = 0\n",
    "total_time = 0\n",
    "\n",
    "on_right = [] \n",
    "crossing_time = on_left[1][1] \n",
    "total_time += crossing_time \n",
    "on_right = on_left[:2] \n",
    "on_left = on_left[2:] \n",
    "torch = 'right'\n",
    "print(f'{on_right[0][0]} and {on_right[1][0]} cross ({crossing_time}mins)'.ljust(45,' ') + f'Total={total_time}mins')\n",
    "\n",
    "while on_left:\n",
    "    if torch == 'right':\n",
    "        crossing_time = on_right[0][1]\n",
    "        total_time += crossing_time\n",
    "        if on_right[0] == guard:\n",
    "            on_left.insert(1, on_right.pop(0))\n",
    "            print(f'{on_left[1][0]} returns ({crossing_time}mins)'.ljust(45,' ') + f'Total={total_time}mins')\n",
    "        else:\n",
    "            on_left.insert(0, on_right.pop(0))\n",
    "            print(f'{on_left[0][0]} returns ({crossing_time}mins)'.ljust(45,' ') + f'Total={total_time}mins')\n",
    "        torch = 'left'\n",
    "        \n",
    "    \n",
    "    else:\n",
    "        if on_left[1] == guard:\n",
    "            crossing_time = on_left[-1][1]\n",
    "            total_time += crossing_time\n",
    "            on_right.insert(0, on_left.pop(0))\n",
    "            on_right.append(on_left.pop(-1))\n",
    "            print(f'{on_right[0][0]} and {on_right[-1][0]} cross ({crossing_time}mins)'.ljust(45,' ') + f'Total={total_time}mins')\n",
    "        else:\n",
    "            crossing_time = on_left[-1][1]\n",
    "            total_time += crossing_time\n",
    "            on_right.append(on_left.pop(-1))\n",
    "            on_right.append(on_left.pop(-1))\n",
    "            print(f'{on_right[-1][0]} and {on_right[-2][0]} cross ({crossing_time}mins)'.ljust(45,' ') + f'Total={total_time}mins')\n",
    "        torch = 'right'"
   ]
  },
  {
   "cell_type": "code",
   "execution_count": 2,
   "id": "4d1f0c18",
   "metadata": {},
   "outputs": [
    {
     "name": "stdout",
     "output_type": "stream",
     "text": [
      "Alice and Bruce cross (2mins)                Total=2mins\n",
      "Alice returns (1mins)                        Total=3mins\n",
      "Carla and David cross (10mins)               Total=13mins\n",
      "Bruce returns (2mins)                        Total=15mins\n",
      "Alice and Eve cross (8mins)                  Total=23mins\n",
      "Alice returns (1mins)                        Total=24mins\n",
      "Alice and Bruce cross (2mins)                Total=26mins\n"
     ]
    }
   ],
   "source": [
    "# Add Eve\n",
    "team = (('David',10),('Bruce',2),('Carla',9),('Alice',1),('Eve', 8))\n",
    "\n",
    "on_left = sorted(list(team), key=lambda x:x[1]) \n",
    "guard = on_left[1]\n",
    "crossing_time = 0\n",
    "total_time = 0\n",
    "\n",
    "on_right = [] \n",
    "crossing_time = on_left[1][1] \n",
    "total_time += crossing_time \n",
    "on_right = on_left[:2] \n",
    "on_left = on_left[2:] \n",
    "torch = 'right'\n",
    "print(f'{on_right[0][0]} and {on_right[1][0]} cross ({crossing_time}mins)'.ljust(45,' ') + f'Total={total_time}mins')\n",
    "\n",
    "while on_left:\n",
    "    if torch == 'right':\n",
    "        crossing_time = on_right[0][1]\n",
    "        total_time += crossing_time\n",
    "        if on_right[0] == guard:\n",
    "            on_left.insert(1, on_right.pop(0))\n",
    "            print(f'{on_left[1][0]} returns ({crossing_time}mins)'.ljust(45,' ') + f'Total={total_time}mins')\n",
    "        else:\n",
    "            on_left.insert(0, on_right.pop(0))\n",
    "            print(f'{on_left[0][0]} returns ({crossing_time}mins)'.ljust(45,' ') + f'Total={total_time}mins')\n",
    "        torch = 'left'\n",
    "        \n",
    "    \n",
    "    else:\n",
    "        if on_left[1] == guard:\n",
    "            crossing_time = on_left[-1][1]\n",
    "            total_time += crossing_time\n",
    "            on_right.insert(0, on_left.pop(0))\n",
    "            on_right.append(on_left.pop(-1))\n",
    "            print(f'{on_right[0][0]} and {on_right[-1][0]} cross ({crossing_time}mins)'.ljust(45,' ') + f'Total={total_time}mins')\n",
    "        else:\n",
    "            crossing_time = on_left[-1][1]\n",
    "            total_time += crossing_time\n",
    "            on_right.append(on_left.pop(-1))\n",
    "            on_right.append(on_left.pop(-1))\n",
    "            print(f'{on_right[-1][0]} and {on_right[-2][0]} cross ({crossing_time}mins)'.ljust(45,' ') + f'Total={total_time}mins')\n",
    "        torch = 'right'"
   ]
  }
 ],
 "metadata": {
  "kernelspec": {
   "display_name": "Python 3 (ipykernel)",
   "language": "python",
   "name": "python3"
  },
  "language_info": {
   "codemirror_mode": {
    "name": "ipython",
    "version": 3
   },
   "file_extension": ".py",
   "mimetype": "text/x-python",
   "name": "python",
   "nbconvert_exporter": "python",
   "pygments_lexer": "ipython3",
   "version": "3.9.7"
  }
 },
 "nbformat": 4,
 "nbformat_minor": 5
}
