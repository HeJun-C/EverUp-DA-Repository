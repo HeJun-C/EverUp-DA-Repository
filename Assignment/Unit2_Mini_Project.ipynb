{
 "cells": [
  {
   "cell_type": "markdown",
   "metadata": {
    "colab_type": "text",
    "id": "view-in-github"
   },
   "source": [
    "<a href=\"https://colab.research.google.com/github/niteen11/lagcc_data_analytics_micro_credential/blob/master/Unit%202%20-%20Python%20Fundamentals/Mini%20Project/Unit2_Mini_Project.ipynb\" target=\"_parent\"><img src=\"https://colab.research.google.com/assets/colab-badge.svg\" alt=\"Open In Colab\"/></a>"
   ]
  },
  {
   "cell_type": "markdown",
   "metadata": {
    "id": "Vgs8Kp4TidFQ"
   },
   "source": [
    "# Intrdouction to Python - Mini Project"
   ]
  },
  {
   "cell_type": "markdown",
   "metadata": {
    "id": "_Hq7Ny79iwgD"
   },
   "source": [
    "#Python Project – Odd or Even\n",
    "\n",
    "Ask the user for a number. Depending on whether the number is even or odd, print out an appropriate message to the user. Hint: how does an even / odd number react differently when divided by 2?\n"
   ]
  },
  {
   "cell_type": "code",
   "execution_count": 3,
   "metadata": {
    "id": "lotvpVpvlKsR",
    "scrolled": true
   },
   "outputs": [
    {
     "name": "stdout",
     "output_type": "stream",
     "text": [
      "Give me integer:3\n",
      "3 is an odd nubmer!\n"
     ]
    }
   ],
   "source": [
    "number=input(\"Give me integer:\")\n",
    "if float(number) % 2 == 0:\n",
    "    print(f\"{number} is an even number!\")\n",
    "elif float(number) % 2 == 1:\n",
    "    print(f\"{number} is an odd nubmer!\")\n",
    "else:\n",
    "    print(\"Not an integer.\")"
   ]
  },
  {
   "cell_type": "markdown",
   "metadata": {
    "id": "io_27RSlizno"
   },
   "source": [
    "# Bonus:\n",
    "\n",
    "1.\tIf the number is a multiple of 4, print out a different message.\n",
    "\n",
    "2.\tAsk the user for two numbers: one number to check (call it num) and one number to divide by (check). If check divides evenly into num, tell that to the user. If not, print a different appropriate message.\n"
   ]
  },
  {
   "cell_type": "code",
   "execution_count": 2,
   "metadata": {
    "id": "Dh1o5cAylSHB"
   },
   "outputs": [
    {
     "name": "stdout",
     "output_type": "stream",
     "text": [
      "Give me integer:4\n",
      "4 is a multiple of 4!\n"
     ]
    }
   ],
   "source": [
    "# 1\n",
    "number=input(\"Give me integer:\")\n",
    "if float(number) % 2 == 0:\n",
    "    if float(number) % 4 ==0:\n",
    "        print(f\"{number} is a multiple of 4!\")\n",
    "    else:\n",
    "        print(f\"{number} is an even number!\")\n",
    "elif float(number) % 2 == 1:\n",
    "    print(f\"{number} is an odd nubmer!\")\n",
    "else:\n",
    "    print(\"Not an integer.\")"
   ]
  },
  {
   "cell_type": "code",
   "execution_count": 3,
   "metadata": {
    "id": "vs8ppR-wlSKL"
   },
   "outputs": [
    {
     "name": "stdout",
     "output_type": "stream",
     "text": [
      "Give me a number:4\n",
      "Check if it can be evenly devided by:3\n",
      "4 can't be evenly devided by 3.\n"
     ]
    }
   ],
   "source": [
    "# 2\n",
    "num = input(\"Give me a number:\")\n",
    "check = input(\"Check if it can be evenly devided by:\")\n",
    "result = float(num) % float(check)\n",
    "if result == 0:\n",
    "    print(f\"{num} can be evenly devided by {check}.\")\n",
    "else:\n",
    "    print(f\"{num} can't be evenly devided by {check}.\")"
   ]
  }
 ],
 "metadata": {
  "colab": {
   "authorship_tag": "ABX9TyPv6UTDnLJown4zuKgtgDOQ",
   "collapsed_sections": [],
   "include_colab_link": true,
   "name": "Unit2_Mini_Project.ipynb",
   "provenance": [],
   "toc_visible": true
  },
  "kernelspec": {
   "display_name": "Python 3 (ipykernel)",
   "language": "python",
   "name": "python3"
  },
  "language_info": {
   "codemirror_mode": {
    "name": "ipython",
    "version": 3
   },
   "file_extension": ".py",
   "mimetype": "text/x-python",
   "name": "python",
   "nbconvert_exporter": "python",
   "pygments_lexer": "ipython3",
   "version": "3.9.7"
  }
 },
 "nbformat": 4,
 "nbformat_minor": 1
}
