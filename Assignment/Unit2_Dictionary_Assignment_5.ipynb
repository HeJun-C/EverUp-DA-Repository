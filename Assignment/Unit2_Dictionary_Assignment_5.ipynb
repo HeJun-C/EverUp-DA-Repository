{
 "cells": [
  {
   "cell_type": "markdown",
   "metadata": {
    "colab_type": "text",
    "id": "view-in-github"
   },
   "source": [
    "<a href=\"https://colab.research.google.com/github/niteen11/lagcc_data_analytics_micro_credential/blob/master/Unit%202%20-%20Python%20Fundamentals/Assignments/Unit2_Dictionary_Assignment_5.ipynb\" target=\"_parent\"><img src=\"https://colab.research.google.com/assets/colab-badge.svg\" alt=\"Open In Colab\"/></a>"
   ]
  },
  {
   "cell_type": "markdown",
   "metadata": {
    "id": "Vgs8Kp4TidFQ"
   },
   "source": [
    "# Intrdouction to Python - Dictionary - Assignment #5 "
   ]
  },
  {
   "cell_type": "markdown",
   "metadata": {
    "id": "_Hq7Ny79iwgD"
   },
   "source": [
    "## 1.\tCreate a simple dictionary that stores 2 variables, for example: first and last name."
   ]
  },
  {
   "cell_type": "code",
   "execution_count": 1,
   "metadata": {
    "id": "lotvpVpvlKsR"
   },
   "outputs": [],
   "source": [
    "my_name = {\"Hejun\",\"Chen\"}"
   ]
  },
  {
   "cell_type": "code",
   "execution_count": 2,
   "metadata": {
    "id": "oNXY-CfrlLbE"
   },
   "outputs": [
    {
     "data": {
      "text/plain": [
       "{'Chen', 'Hejun'}"
      ]
     },
     "execution_count": 2,
     "metadata": {},
     "output_type": "execute_result"
    }
   ],
   "source": [
    "my_name"
   ]
  },
  {
   "cell_type": "markdown",
   "metadata": {
    "id": "io_27RSlizno"
   },
   "source": [
    "## 2.\tPrint out those variables stored in your previous dictionary. "
   ]
  },
  {
   "cell_type": "code",
   "execution_count": 3,
   "metadata": {
    "id": "Dh1o5cAylSHB"
   },
   "outputs": [
    {
     "name": "stdout",
     "output_type": "stream",
     "text": [
      "Hejun\n",
      "Chen\n"
     ]
    }
   ],
   "source": [
    "for i in my_name:\n",
    "    print(i)"
   ]
  },
  {
   "cell_type": "markdown",
   "metadata": {
    "id": "DAW8m8IQjRyR"
   },
   "source": [
    "## 3.\tAdd a message to those variables on printing: for example: “Hello, firstname lastname!”"
   ]
  },
  {
   "cell_type": "code",
   "execution_count": 4,
   "metadata": {
    "id": "guULMEhrjYtT"
   },
   "outputs": [
    {
     "name": "stdout",
     "output_type": "stream",
     "text": [
      "Hi! My last name is: Hejun.\n",
      "Hi! My first name is: Chen\n"
     ]
    }
   ],
   "source": [
    "x = 0\n",
    "for i in my_name:\n",
    "    if x == 0:\n",
    "        print(f\"Hi! My last name is: {i}.\")\n",
    "    if x == 1:\n",
    "        print(f\"Hi! My first name is: {i}\")\n",
    "    x += 1"
   ]
  },
  {
   "cell_type": "markdown",
   "metadata": {
    "id": "dpa_YOt4jXyo"
   },
   "source": [
    "## 4.\tCreate a dictionary that holds 2 key: value pairs:\n",
    "\n",
    "a.\tLook through your dictionary and print each pair,\n"
   ]
  },
  {
   "cell_type": "code",
   "execution_count": 5,
   "metadata": {
    "id": "pltxfnh3iJLW"
   },
   "outputs": [],
   "source": [
    "my_name = {\"Last Name\":\"Hejun\", \"First Name\":\"Chen\"}"
   ]
  },
  {
   "cell_type": "code",
   "execution_count": 6,
   "metadata": {
    "id": "PzH5Rcn-jwPL"
   },
   "outputs": [
    {
     "name": "stdout",
     "output_type": "stream",
     "text": [
      "Last Name : Hejun\n",
      "First Name : Chen\n"
     ]
    }
   ],
   "source": [
    "for key in my_name:\n",
    "    print(key,\":\", my_name[key])"
   ]
  },
  {
   "cell_type": "code",
   "execution_count": 7,
   "metadata": {
    "id": "34IFFtK4jrg4"
   },
   "outputs": [
    {
     "name": "stdout",
     "output_type": "stream",
     "text": [
      "('Last Name', 'Hejun')\n",
      "('First Name', 'Chen')\n"
     ]
    }
   ],
   "source": [
    "for name in my_name.items():\n",
    "    print(name)"
   ]
  }
 ],
 "metadata": {
  "colab": {
   "authorship_tag": "ABX9TyMQClfokgj55ihmq+VneG5D",
   "collapsed_sections": [],
   "include_colab_link": true,
   "name": "Unit2_Dictionary_Assignment_5.ipynb",
   "provenance": [],
   "toc_visible": true
  },
  "kernelspec": {
   "display_name": "Python 3 (ipykernel)",
   "language": "python",
   "name": "python3"
  },
  "language_info": {
   "codemirror_mode": {
    "name": "ipython",
    "version": 3
   },
   "file_extension": ".py",
   "mimetype": "text/x-python",
   "name": "python",
   "nbconvert_exporter": "python",
   "pygments_lexer": "ipython3",
   "version": "3.9.7"
  }
 },
 "nbformat": 4,
 "nbformat_minor": 1
}
