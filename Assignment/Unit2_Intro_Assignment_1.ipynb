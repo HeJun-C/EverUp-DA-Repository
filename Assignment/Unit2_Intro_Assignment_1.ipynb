{
 "cells": [
  {
   "cell_type": "markdown",
   "metadata": {
    "id": "view-in-github"
   },
   "source": [
    "<a href=\"https://colab.research.google.com/github/niteen11/lagcc_data_analytics_micro_credential/blob/master/Unit%202%20-%20Python%20Fundamentals/Assignments/Unit2_Intro_Assignment_1.ipynb\" target=\"_parent\"><img src=\"https://colab.research.google.com/assets/colab-badge.svg\" alt=\"Open In Colab\"/></a>"
   ]
  },
  {
   "cell_type": "markdown",
   "metadata": {
    "id": "Vgs8Kp4TidFQ"
   },
   "source": [
    "# Lesson 1 - Intrdouction to Python - Assignment 1\n",
    "\n",
    "> Indented block\n",
    "\n"
   ]
  },
  {
   "cell_type": "markdown",
   "metadata": {
    "id": "_Hq7Ny79iwgD"
   },
   "source": [
    "## 1.\tWhat is Python and why is it useful?"
   ]
  },
  {
   "cell_type": "markdown",
   "metadata": {
    "id": "DBd0pMkDi0pv"
   },
   "source": [
    "Python is an open-source programming language, and it is useful because I personally use it for my data science projects and it contains great packages and libraries."
   ]
  },
  {
   "cell_type": "markdown",
   "metadata": {
    "id": "io_27RSlizno"
   },
   "source": [
    "## 2.\tAre the following variable names allowed in python?"
   ]
  },
  {
   "cell_type": "markdown",
   "metadata": {
    "id": "9_GYv9VTiqrI"
   },
   "source": [
    "a.\t1_message -- No\n",
    "\n",
    "b.\tGreeting_message -- Yes\n",
    "\n",
    "c.\tMessage_1 -- Yes\n",
    "\n",
    "d.\tFirst name -- No\n",
    "\n",
    "e.\tFull_name -- Yes\n",
    "\n"
   ]
  },
  {
   "cell_type": "markdown",
   "metadata": {
    "id": "b5M6t8YjjPaZ"
   },
   "source": []
  },
  {
   "cell_type": "markdown",
   "metadata": {
    "id": "DAW8m8IQjRyR"
   },
   "source": [
    "## 3.\tCreate a variable that holds the string “hello there!”"
   ]
  },
  {
   "cell_type": "code",
   "execution_count": null,
   "metadata": {
    "id": "guULMEhrjYtT"
   },
   "outputs": [],
   "source": [
    "x = \"hello there\""
   ]
  },
  {
   "cell_type": "markdown",
   "metadata": {
    "id": "dpa_YOt4jXyo"
   },
   "source": [
    "## 4.\tCreate a variable for first name, last name and an email extension.  Concatenating all three together to form an email address.  For example: firstnamelastname@gmail.com"
   ]
  },
  {
   "cell_type": "code",
   "execution_count": 1,
   "metadata": {
    "id": "pltxfnh3iJLW"
   },
   "outputs": [],
   "source": [
    "last_name = \"Chen\"\n",
    "first_name = \"Hejun\"\n",
    "extension = \"@gmail.com\""
   ]
  },
  {
   "cell_type": "code",
   "execution_count": 3,
   "metadata": {
    "id": "PzH5Rcn-jwPL"
   },
   "outputs": [
    {
     "data": {
      "text/plain": [
       "'ChenHejun@gmail.com'"
      ]
     },
     "execution_count": 3,
     "metadata": {},
     "output_type": "execute_result"
    }
   ],
   "source": [
    "email_address = last_name + first_name + extension\n",
    "email_address"
   ]
  },
  {
   "cell_type": "markdown",
   "metadata": {
    "id": "Ka84RGy4jmLT"
   },
   "source": [
    "## 5.\tStore someone you know name in a variable called name.  Print their name in lower and uppercase using a method."
   ]
  },
  {
   "cell_type": "code",
   "execution_count": 4,
   "metadata": {
    "id": "34IFFtK4jrg4"
   },
   "outputs": [],
   "source": [
    "name = \"Yingtong Shi\""
   ]
  },
  {
   "cell_type": "code",
   "execution_count": 5,
   "metadata": {
    "id": "M17RfxQljvqb"
   },
   "outputs": [
    {
     "data": {
      "text/plain": [
       "'yingtong shi'"
      ]
     },
     "execution_count": 5,
     "metadata": {},
     "output_type": "execute_result"
    }
   ],
   "source": [
    "name.lower()"
   ]
  },
  {
   "cell_type": "code",
   "execution_count": 6,
   "metadata": {
    "id": "4agTp_Cyju4-"
   },
   "outputs": [
    {
     "data": {
      "text/plain": [
       "'YINGTONG SHI'"
      ]
     },
     "execution_count": 6,
     "metadata": {},
     "output_type": "execute_result"
    }
   ],
   "source": [
    "name.upper()"
   ]
  }
 ],
 "metadata": {
  "colab": {
   "collapsed_sections": [],
   "name": "Unit2_Intro_Assignment_1.ipynb",
   "provenance": []
  },
  "kernelspec": {
   "display_name": "Python 3 (ipykernel)",
   "language": "python",
   "name": "python3"
  },
  "language_info": {
   "codemirror_mode": {
    "name": "ipython",
    "version": 3
   },
   "file_extension": ".py",
   "mimetype": "text/x-python",
   "name": "python",
   "nbconvert_exporter": "python",
   "pygments_lexer": "ipython3",
   "version": "3.9.7"
  }
 },
 "nbformat": 4,
 "nbformat_minor": 1
}
