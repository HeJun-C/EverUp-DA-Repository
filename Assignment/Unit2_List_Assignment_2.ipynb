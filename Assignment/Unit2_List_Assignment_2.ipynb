{
 "cells": [
  {
   "cell_type": "markdown",
   "metadata": {
    "colab_type": "text",
    "id": "view-in-github"
   },
   "source": [
    "<a href=\"https://colab.research.google.com/github/niteen11/lagcc_data_analytics_micro_credential/blob/master/Unit%202%20-%20Python%20Fundamentals/Assignments/Unit2_List_Assignment_2.ipynb\" target=\"_parent\"><img src=\"https://colab.research.google.com/assets/colab-badge.svg\" alt=\"Open In Colab\"/></a>"
   ]
  },
  {
   "cell_type": "markdown",
   "metadata": {
    "id": "Vgs8Kp4TidFQ"
   },
   "source": [
    "# Intrdouction to Python - List - Assingment #2  "
   ]
  },
  {
   "cell_type": "markdown",
   "metadata": {
    "id": "_Hq7Ny79iwgD"
   },
   "source": [
    "## 1.Create a list of 5 of your favorite tv shows.  ?"
   ]
  },
  {
   "cell_type": "code",
   "execution_count": 1,
   "metadata": {
    "id": "lotvpVpvlKsR"
   },
   "outputs": [],
   "source": [
    "shows = [\"Spongebob\",\"Shameless\",\"Big Bang Theory\", \"Friends\", \"ZhenHuan Zhuan\"]"
   ]
  },
  {
   "cell_type": "markdown",
   "metadata": {
    "id": "io_27RSlizno"
   },
   "source": [
    "## 2.\tPrint the list in its original order"
   ]
  },
  {
   "cell_type": "code",
   "execution_count": 2,
   "metadata": {
    "id": "Dh1o5cAylSHB"
   },
   "outputs": [
    {
     "name": "stdout",
     "output_type": "stream",
     "text": [
      "['Spongebob', 'Shameless', 'Big Bang Theory', 'Friends', 'ZhenHuan Zhuan']\n"
     ]
    }
   ],
   "source": [
    "print(shows)"
   ]
  },
  {
   "cell_type": "markdown",
   "metadata": {
    "id": "DAW8m8IQjRyR"
   },
   "source": [
    "## 3.\tUse the sorted() function to print the list in alphabetical order.  How is sorted() different from sort()?"
   ]
  },
  {
   "cell_type": "markdown",
   "metadata": {},
   "source": [
    "#### Answer: sorted() gives alphabetically sorted list without changing the order of the original input list, but sort() will."
   ]
  },
  {
   "cell_type": "code",
   "execution_count": 3,
   "metadata": {
    "id": "guULMEhrjYtT"
   },
   "outputs": [
    {
     "name": "stdout",
     "output_type": "stream",
     "text": [
      "['Big Bang Theory', 'Friends', 'Shameless', 'Spongebob', 'ZhenHuan Zhuan']\n",
      "['Spongebob', 'Shameless', 'Big Bang Theory', 'Friends', 'ZhenHuan Zhuan']\n"
     ]
    }
   ],
   "source": [
    "print(sorted(shows))\n",
    "print(shows)"
   ]
  },
  {
   "cell_type": "code",
   "execution_count": 4,
   "metadata": {
    "id": "cv946RaOjw-G"
   },
   "outputs": [
    {
     "name": "stdout",
     "output_type": "stream",
     "text": [
      "List before using sort():['Spongebob', 'Shameless', 'Big Bang Theory', 'Friends', 'ZhenHuan Zhuan']\n",
      "List after using sort():['Big Bang Theory', 'Friends', 'Shameless', 'Spongebob', 'ZhenHuan Zhuan']\n"
     ]
    }
   ],
   "source": [
    "print(f\"List before using sort():{shows}\")\n",
    "shows.sort()\n",
    "print(f\"List after using sort():{shows}\")"
   ]
  },
  {
   "cell_type": "markdown",
   "metadata": {
    "id": "dpa_YOt4jXyo"
   },
   "source": [
    "## 4.\tPrint out your original list."
   ]
  },
  {
   "cell_type": "code",
   "execution_count": 5,
   "metadata": {
    "id": "pltxfnh3iJLW"
   },
   "outputs": [],
   "source": [
    "shows = [\"Spongebob\",\"Shameless\",\"Big Bang Theory\", \"Friends\", \"ZhenHuan Zhuan\"]"
   ]
  },
  {
   "cell_type": "code",
   "execution_count": 6,
   "metadata": {
    "id": "PzH5Rcn-jwPL"
   },
   "outputs": [
    {
     "data": {
      "text/plain": [
       "['Spongebob', 'Shameless', 'Big Bang Theory', 'Friends', 'ZhenHuan Zhuan']"
      ]
     },
     "execution_count": 6,
     "metadata": {},
     "output_type": "execute_result"
    }
   ],
   "source": [
    "print(shows)"
   ]
  },
  {
   "cell_type": "markdown",
   "metadata": {
    "id": "Ka84RGy4jmLT"
   },
   "source": [
    "## 5.\tUsed sorted() to print your list in reverse alphabetical order."
   ]
  },
  {
   "cell_type": "code",
   "execution_count": 7,
   "metadata": {
    "id": "34IFFtK4jrg4"
   },
   "outputs": [
    {
     "name": "stdout",
     "output_type": "stream",
     "text": [
      "['ZhenHuan Zhuan', 'Spongebob', 'Shameless', 'Friends', 'Big Bang Theory']\n"
     ]
    }
   ],
   "source": [
    "print(sorted(shows, reverse=True))"
   ]
  },
  {
   "cell_type": "markdown",
   "metadata": {
    "id": "ZKHwdMnLliFy"
   },
   "source": [
    "## 6.\tCreate a message indicating how many favorite TV shows you have – use the len() function."
   ]
  },
  {
   "cell_type": "code",
   "execution_count": 8,
   "metadata": {
    "id": "eXUDZfLOllTT"
   },
   "outputs": [
    {
     "name": "stdout",
     "output_type": "stream",
     "text": [
      "I have 5 favorite TVshows.\n"
     ]
    }
   ],
   "source": [
    "print(f\"I have {len(shows)} favorite TVshows.\")"
   ]
  }
 ],
 "metadata": {
  "colab": {
   "authorship_tag": "ABX9TyOSHq1yMukuLj74eon6Y738",
   "collapsed_sections": [],
   "include_colab_link": true,
   "name": "Unit2_List_Assignment_2.ipynb",
   "provenance": [],
   "toc_visible": true
  },
  "kernelspec": {
   "display_name": "Python 3 (ipykernel)",
   "language": "python",
   "name": "python3"
  },
  "language_info": {
   "codemirror_mode": {
    "name": "ipython",
    "version": 3
   },
   "file_extension": ".py",
   "mimetype": "text/x-python",
   "name": "python",
   "nbconvert_exporter": "python",
   "pygments_lexer": "ipython3",
   "version": "3.9.7"
  }
 },
 "nbformat": 4,
 "nbformat_minor": 1
}
