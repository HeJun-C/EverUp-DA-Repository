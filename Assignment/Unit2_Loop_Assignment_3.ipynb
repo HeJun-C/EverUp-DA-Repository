{
 "cells": [
  {
   "cell_type": "markdown",
   "metadata": {
    "colab_type": "text",
    "id": "view-in-github"
   },
   "source": [
    "<a href=\"https://colab.research.google.com/github/niteen11/lagcc_data_analytics_micro_credential/blob/master/Unit%202%20-%20Python%20Fundamentals/Assignments/Unit2_Loop_Assignment_3.ipynb\" target=\"_parent\"><img src=\"https://colab.research.google.com/assets/colab-badge.svg\" alt=\"Open In Colab\"/></a>"
   ]
  },
  {
   "cell_type": "markdown",
   "metadata": {
    "id": "Vgs8Kp4TidFQ"
   },
   "source": [
    "# Intrdouction to Python - Loop - Assignment #3 "
   ]
  },
  {
   "cell_type": "markdown",
   "metadata": {
    "id": "_Hq7Ny79iwgD"
   },
   "source": [
    "## 1. Create a list that holds 5 data variables. "
   ]
  },
  {
   "cell_type": "code",
   "execution_count": 1,
   "metadata": {
    "id": "lotvpVpvlKsR"
   },
   "outputs": [],
   "source": [
    "data_variables = [\"Google\",\"Meta\",\"Apple\",\"Amazon\",\"Neflix\"]"
   ]
  },
  {
   "cell_type": "code",
   "execution_count": 2,
   "metadata": {
    "id": "oNXY-CfrlLbE"
   },
   "outputs": [
    {
     "name": "stdout",
     "output_type": "stream",
     "text": [
      "['Google', 'Meta', 'Apple', 'Amazon', 'Neflix']\n"
     ]
    }
   ],
   "source": [
    "print(data_variables)"
   ]
  },
  {
   "cell_type": "markdown",
   "metadata": {
    "id": "io_27RSlizno"
   },
   "source": [
    "## 2.\tPrint out those variables by using a for loop"
   ]
  },
  {
   "cell_type": "code",
   "execution_count": 3,
   "metadata": {
    "id": "Dh1o5cAylSHB"
   },
   "outputs": [
    {
     "name": "stdout",
     "output_type": "stream",
     "text": [
      "Google\n",
      "Meta\n",
      "Apple\n",
      "Amazon\n",
      "Neflix\n"
     ]
    }
   ],
   "source": [
    "for var in data_variables:\n",
    "    print(var)"
   ]
  },
  {
   "cell_type": "markdown",
   "metadata": {
    "id": "DAW8m8IQjRyR"
   },
   "source": [
    "## 3.\tModify your for loop to add a message to your for loop."
   ]
  },
  {
   "cell_type": "code",
   "execution_count": 4,
   "metadata": {
    "id": "guULMEhrjYtT"
   },
   "outputs": [
    {
     "name": "stdout",
     "output_type": "stream",
     "text": [
      "I believe I will join Google.\n",
      "I believe I will join Meta.\n",
      "I believe I will join Apple.\n",
      "I believe I will join Amazon.\n",
      "I believe I will join Neflix.\n"
     ]
    }
   ],
   "source": [
    "for var in data_variables:\n",
    "    print(f\"I believe I will join {var}.\")"
   ]
  },
  {
   "cell_type": "markdown",
   "metadata": {
    "id": "dpa_YOt4jXyo"
   },
   "source": [
    "## 4.\tUse a for loop to print even numbers from 1-20."
   ]
  },
  {
   "cell_type": "code",
   "execution_count": 5,
   "metadata": {
    "id": "pltxfnh3iJLW"
   },
   "outputs": [
    {
     "name": "stdout",
     "output_type": "stream",
     "text": [
      "2\n",
      "4\n",
      "6\n",
      "8\n",
      "10\n",
      "12\n",
      "14\n",
      "16\n",
      "18\n",
      "20\n"
     ]
    }
   ],
   "source": [
    "for i in range(1,21):\n",
    "    if i%2 == 0:\n",
    "        print(i)"
   ]
  },
  {
   "cell_type": "markdown",
   "metadata": {
    "id": "Ka84RGy4jmLT"
   },
   "source": [
    "## 5.\tSort your list in alphabetic order."
   ]
  },
  {
   "cell_type": "code",
   "execution_count": 6,
   "metadata": {
    "id": "34IFFtK4jrg4"
   },
   "outputs": [
    {
     "data": {
      "text/plain": [
       "['Google', 'Meta', 'Apple', 'Amazon', 'Neflix']"
      ]
     },
     "execution_count": 6,
     "metadata": {},
     "output_type": "execute_result"
    }
   ],
   "source": [
    "data_variables"
   ]
  },
  {
   "cell_type": "code",
   "execution_count": 7,
   "metadata": {
    "id": "M17RfxQljvqb"
   },
   "outputs": [],
   "source": [
    "data_variables.sort()"
   ]
  },
  {
   "cell_type": "code",
   "execution_count": 8,
   "metadata": {
    "id": "4agTp_Cyju4-"
   },
   "outputs": [
    {
     "data": {
      "text/plain": [
       "['Amazon', 'Apple', 'Google', 'Meta', 'Neflix']"
      ]
     },
     "execution_count": 8,
     "metadata": {},
     "output_type": "execute_result"
    }
   ],
   "source": [
    "data_variables"
   ]
  },
  {
   "cell_type": "markdown",
   "metadata": {
    "id": "ZKHwdMnLliFy"
   },
   "source": [
    "## 6.\tPrint out the first three elements of your list."
   ]
  },
  {
   "cell_type": "code",
   "execution_count": 9,
   "metadata": {
    "id": "eXUDZfLOllTT"
   },
   "outputs": [
    {
     "data": {
      "text/plain": [
       "['Amazon', 'Apple', 'Google']"
      ]
     },
     "execution_count": 9,
     "metadata": {},
     "output_type": "execute_result"
    }
   ],
   "source": [
    "data_variables[:3]"
   ]
  },
  {
   "cell_type": "markdown",
   "metadata": {
    "id": "oedkoLECmv6x"
   },
   "source": [
    "## 7.\tCreate a loop to print the last 2 elements of your list."
   ]
  },
  {
   "cell_type": "code",
   "execution_count": 10,
   "metadata": {
    "id": "jjh2GdktllZY"
   },
   "outputs": [
    {
     "name": "stdout",
     "output_type": "stream",
     "text": [
      "Meta\n",
      "Neflix\n"
     ]
    }
   ],
   "source": [
    "for var in data_variables[-2:]:\n",
    "    print(var)"
   ]
  }
 ],
 "metadata": {
  "colab": {
   "authorship_tag": "ABX9TyOkLLILG8m3UpFwjiWdcrRs",
   "collapsed_sections": [],
   "include_colab_link": true,
   "name": "Unit2_Loop_Assignment_3.ipynb",
   "provenance": [],
   "toc_visible": true
  },
  "kernelspec": {
   "display_name": "Python 3 (ipykernel)",
   "language": "python",
   "name": "python3"
  },
  "language_info": {
   "codemirror_mode": {
    "name": "ipython",
    "version": 3
   },
   "file_extension": ".py",
   "mimetype": "text/x-python",
   "name": "python",
   "nbconvert_exporter": "python",
   "pygments_lexer": "ipython3",
   "version": "3.9.7"
  }
 },
 "nbformat": 4,
 "nbformat_minor": 1
}
